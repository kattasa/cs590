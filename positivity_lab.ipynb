{
 "cells": [
  {
   "cell_type": "code",
   "execution_count": null,
   "metadata": {},
   "outputs": [],
   "source": [
    "import numpy as np\n",
    "import pandas as pd\n",
    "import matplotlib.pyplot as plt\n",
    "import seaborn as sns\n",
    "\n",
    "from tqdm.notebook import tqdm\n",
    "\n",
    "from sklearn.model_selection import train_test_split\n",
    "from sklearn.ensemble import RandomForestClassifier\n",
    "from sklearn.linear_model import LogisticRegression, LinearRegression\n",
    "from sklearn.neighbors import NearestNeighbors"
   ]
  },
  {
   "cell_type": "markdown",
   "metadata": {},
   "source": [
    "## Generate Data without Positivity Violations\n",
    "\n",
    "We will use the following data generating process for illustration:\n",
    "\n",
    "- For each $i = 1, \\ldots, n$:\n",
    "    - Sample covariate vector: $\\mathbf{X}_i \\sim Unif[-1,1]^p$ with $p$ covariates\n",
    "    - Assign unit $i$'s treatment: $T_i =1$ with prob $\\text{expit}(0.5\\mathbf{X}_{i,1} + 0.5\\mathbf{X}_{i,2})$\n",
    "    - Generate outcomes: $Y_i = \\mu(\\mathbf{X}_i, T_i) + \\epsilon_i, \\epsilon_i \\sim \\mathcal{N}(0,1)$\n",
    "        - $\\mu(\\mathbf{X}_i, T_i) = 10 + \\mathbf{X}_{i,1} + 2 * \\mathbf{X}_{i,2} + 10 \\cdot T_i + \\underbrace{10 * \\mathbf{X}_{i,2}^2 * T_i}_{\\text{Tx Effect Hetero.}}$"
   ]
  },
  {
   "cell_type": "code",
   "execution_count": 5,
   "metadata": {},
   "outputs": [],
   "source": [
    "def expit(x):\n",
    "    '''\n",
    "    The expit function, also known as the logistic function, is defined as expit(x) = 1 / (1 + exp(-x))\n",
    "    Parameters:\n",
    "    x (float): A scalar value\n",
    "    Returns:\n",
    "    float: The value of the expit function at x\n",
    "    '''\n",
    "    return 1 / (1 + np.exp(-x))\n",
    "def sample_X(n, p):\n",
    "    '''\n",
    "    Generates a sample of size `n` from a Uniform distribution with bounds [0,1]\n",
    "    Parameters:\n",
    "    n (int): The number of trials or sample size.\n",
    "    p (float): The number of features\n",
    "    Returns:\n",
    "    numpy.ndarray: A n by p matrix\n",
    "    '''\n",
    "    return np.random.uniform(-1, 1, (n, p))\n",
    "    \n",
    "def make_pi(X):\n",
    "    '''\n",
    "    Given a (n by p) dimensional matrix X, construct the propensity score function, P(T = 1 | X = x), for each unit (row) in X\n",
    "    Parameters:\n",
    "    X (numpy.ndarray): A n by p matrix\n",
    "    Returns:\n",
    "    numpy.ndarray: A n by 1 matrix\n",
    "    '''\n",
    "    return expit(0.5 * X[:, 0] + 0.5 * X[:, 1])\n",
    "\n",
    "def sample_T(X, pi_function = make_pi):\n",
    "    '''\n",
    "    Given a (n by p) dimensional matrix X, sample the treatment indicator T for each unit in X\n",
    "    Parameters:\n",
    "    X (numpy.ndarray): A n by p matrix\n",
    "    pi_function (function): A function that takes in a (n by p) dimensional matrix X and returns a (n by 1) dimensional matrix\n",
    "    Returns:\n",
    "    numpy.ndarray: A n by 1 matrix\n",
    "    '''\n",
    "    return np.random.binomial(1, pi_function(X))\n",
    "\n",
    "def mu(X, T):\n",
    "    '''\n",
    "    Given a (n by p) dimensional matrix X and a (n by 1) dimensional matrix T, compute the conditional mean E[Y | X = x, T = t] for each unit in X\n",
    "    Parameters:\n",
    "    X (numpy.ndarray): A n by p matrix\n",
    "    T (numpy.ndarray): A n by 1 matrix\n",
    "    Returns:\n",
    "    numpy.ndarray: A n by 1 matrix\n",
    "    '''\n",
    "    return 10 + X[:, 0] + 2 * X[:, 1] + 10 * T + 10 * X[:, 1]**2 * T\n",
    "    \n",
    "def sample_Y(X, T):\n",
    "    '''\n",
    "    Given a (n by p) dimensional matrix X and a (n by 1) dimensional matrix T, sample the response Y for each unit in X\n",
    "    Parameters:\n",
    "    X (numpy.ndarray): A n by p matrix\n",
    "    T (numpy.ndarray): A n by 1 matrix\n",
    "    Returns:\n",
    "    numpy.ndarray: A n by 1 matrix\n",
    "    '''\n",
    "    error = np.random.normal(0, 1, X.shape[0])\n",
    "    return mu(X, T) + error"
   ]
  },
  {
   "cell_type": "markdown",
   "metadata": {},
   "source": [
    "##### Q: The average treatment effect is defined as $ATE = \\mathbb{E}_{(X, T, Y)}[Y(1) - Y(0)]$. What is the ATE in this problem? Answer either analytically (this is easier) or argue by simulation\n",
    "- Answer:"
   ]
  },
  {
   "cell_type": "code",
   "execution_count": null,
   "metadata": {},
   "outputs": [],
   "source": [
    "### Solution if answering via simulation\n",
    "ground_truth_ate = "
   ]
  },
  {
   "cell_type": "markdown",
   "metadata": {},
   "source": [
    "##### The following plot shows $\\mathbf{X}_{\\cdot, 1}$ on the x axis, $\\mathbf{X}_{\\cdot, 2}$ on the y-axis and the true propensity score as a colored background. Is there an overlap violation? (Don't overthink it)\n",
    "--Answer: "
   ]
  },
  {
   "cell_type": "code",
   "execution_count": 6,
   "metadata": {},
   "outputs": [
    {
     "data": {
      "image/png": "[encoded data removed]",
      "text/plain": [
       "<Figure size 432x288 with 2 Axes>"
      ]
     },
     "metadata": {
      "needs_background": "light"
     },
     "output_type": "display_data"
    }
   ],
   "source": [
    "xv = np.linspace(-1, 1, 1000)\n",
    "yv = np.linspace(-1, 1, 1000)\n",
    "x_plot = np.array([[x, y] for x in xv for y in yv])\n",
    "pi_grid_violation = make_pi(x_plot).reshape(1000, 1000)\n",
    "\n",
    "plt.rcParams.update({'font.size': 12})\n",
    "fig, ax = plt.subplots()\n",
    "contour = ax.contourf(xv, yv, pi_grid_violation, cmap='viridis', levels=np.linspace(0, 0.8, 10).round(2))\n",
    "cbar = fig.colorbar(contour, ax=ax)\n",
    "plt.xlabel('X[:, 0]')\n",
    "plt.ylabel('X[:, 1]')\n",
    "plt.title('Contour Plot of Propensity Score')\n",
    "plt.show()\n",
    "\n"
   ]
  },
  {
   "cell_type": "markdown",
   "metadata": {},
   "source": [
    "#### Run 100 monte carlo iterations of the following simulation:\n",
    "- Sample 1,000 observations with *2* covariates\n",
    "- Estimate the average treatment effect using 2 different methods (e.g., IPW with logistic regression vs outcome regression with logistic regression)\n",
    "- Report the bias and variance of your estimate across monte carlo iterations"
   ]
  },
  {
   "cell_type": "code",
   "execution_count": null,
   "metadata": {},
   "outputs": [],
   "source": [
    "def first_ate_estimator(X, T, Y):\n",
    "    '''\n",
    "    Given a (n by p) dimensional matrix X, a (n by 1) dimensional matrix T, and a (n by 1) dimensional matrix Y, estimate the Average Treatment Effect (ATE)\n",
    "\n",
    "    Parameters:\n",
    "    X (numpy.ndarray): A n by p matrix\n",
    "    T (numpy.ndarray): A n by 1 matrix\n",
    "    Y (numpy.ndarray): A n by 1 matrix\n",
    "\n",
    "    Returns:\n",
    "    float: The estimated Average Treatment Effect (ATE)\n",
    "    '''\n",
    "    ## code goes here\n",
    "    return ate_estimate\n",
    "\n",
    "def second_ate_estimator(X, T, Y):\n",
    "    '''\n",
    "    Given a (n by p) dimensional matrix X, a (n by 1) dimensional matrix T, and a (n by 1) dimensional matrix Y, estimate the Average Treatment Effect (ATE)\n",
    "\n",
    "    Parameters:\n",
    "    X (numpy.ndarray): A n by p matrix\n",
    "    T (numpy.ndarray): A n by 1 matrix\n",
    "    Y (numpy.ndarray): A n by 1 matrix\n",
    "\n",
    "    Returns:\n",
    "    float: The estimated Average Treatment Effect (ATE)\n",
    "    '''\n",
    "    ## code goes here\n",
    "    return ate_estimate\n",
    "\n",
    "def monte_carlo(n, p, seed):\n",
    "    \"\"\"\n",
    "    Perform a Monte Carlo simulation to estimate the Average Treatment Effect (ATE) using 2 different estimators.\n",
    "    Parameters:\n",
    "    n (int): The number of samples.\n",
    "    p (int): The number of features.\n",
    "    Returns:\n",
    "    float: The estimated Average Treatment Effect (ATE).\n",
    "    \"\"\"\n",
    "    np.random.seed(seed)\n",
    "    # sample X, T, and Y\n",
    "    X = sample_X(n, p)\n",
    "    T = sample_T(X)\n",
    "    Y = sample_Y(X, T)\n",
    "\n",
    "    # estimate the ATE using estimator of your choice here\n",
    "    ate_estimate_1 = first_ate_estimator(X, T, Y)\n",
    "\n",
    "    # estimate the ATE using another estimator of your choice here\n",
    "    \n",
    "    ate_estimate_2 = second_ate_estimator(X, T, Y)\n",
    "\n",
    "\n",
    "    return ate_estimate_1, ate_estimate_2\n",
    "\n",
    "monte_carlo_ests = np.array([monte_carlo(10000, 2, i) for i in tqdm(range(100))])\n"
   ]
  },
  {
   "cell_type": "code",
   "execution_count": null,
   "metadata": {},
   "outputs": [],
   "source": [
    "plt.axvline(x=ground_truth_ate, color='red', linestyle='--')\n",
    "plt.hist(monte_carlo_ests[:, 0], bins=30, edgecolor='black')\n",
    "plt.xlabel('ATE Estimates')\n",
    "plt.ylabel('Frequency')\n",
    "plt.title('Histogram of Monte Carlo ATE Estimates from 1st Estimator')\n",
    "plt.show()\n",
    "\n",
    "plt.axvline(x=ground_truth_ate, color='red', linestyle='--')\n",
    "plt.hist(monte_carlo_ests[:, 1], bins=30, edgecolor='black')\n",
    "plt.xlabel('ATE Estimates')\n",
    "plt.ylabel('Frequency')\n",
    "plt.title('Histogram of Monte Carlo ATE Estimates from 2nd Estimator')\n",
    "plt.show()"
   ]
  },
  {
   "cell_type": "code",
   "execution_count": null,
   "metadata": {},
   "outputs": [],
   "source": [
    "\n",
    "estimator1_bias = (monte_carlo_ests[:, 0] - ground_truth_ate).mean()\n",
    "estimator1_variance = np.var(monte_carlo_ests[:, 0])\n",
    "\n",
    "print('Bias for 1st Estimator:', estimator1_bias)\n",
    "print('Variance for 1st Estimator:', estimator1_variance)\n",
    "\n",
    "\n",
    "estimator2_bias = (monte_carlo_ests[:, 1] - ground_truth_ate).mean()\n",
    "estimator2_variance = np.var(monte_carlo_ests[:, 1])\n",
    "\n",
    "print('Bias for 2nd Estimator:', estimator2_bias)\n",
    "print('Variance for 2nd Estimator:', estimator2_variance)"
   ]
  },
  {
   "cell_type": "markdown",
   "metadata": {},
   "source": [
    "##### Now, let's introduce some overlap violations. Introduce a new propensity score function so that if $\\mathbf{X}_{i,1} \\leq -0.5 \\land \\mathbf{X}_{i,2} \\leq -0.5$, then $\\pi(\\mathbf{X}_i) = 0$. In other words, the unit is _guaranteed_ to be in the control group if it is in the bottom left corner of the covariate space\n",
    "\n",
    "- $T_i =1$ with prob $\\text{expit}(0.5\\mathbf{X}_{i,1} + 0.5\\mathbf{X}_{i,2}) * [ \\mathbf{1}_{\\mathbf{X}_{i,1} \\geq -0.5} + \\mathbf{1}_{\\mathbf{X}_{i,2} \\geq -0.5}]$"
   ]
  },
  {
   "cell_type": "code",
   "execution_count": null,
   "metadata": {},
   "outputs": [],
   "source": [
    "def make_pi_violation(X):\n",
    "    '''\n",
    "    Given a (n by p) dimensional matrix X, construct the propensity score function, P(T = 1 | X = x), for each unit (row) in X with overlap violation in bottom left corner\n",
    "    Parameters:\n",
    "    X (numpy.ndarray): A n by p matrix\n",
    "    Returns:\n",
    "    numpy.ndarray: A n by 1 matrix\n",
    "    '''\n",
    "\n",
    "    return expit(0.5 * X[:, 0] + 0.5 * X[:, 1]) * ((X[:, 0] >= -0.5) + (X[:, 1] >= -0.5))\n"
   ]
  },
  {
   "cell_type": "markdown",
   "metadata": {},
   "source": [
    "##### Also compute the average treatment effect for the _overlap_ population:\n",
    "$$\\tau^O = \\mathbb{E}_{(X, T, Y)}[Y(1) - Y(0) \\mid \\mathbf{X}_{i,1} \\geq -0.5 \\text{ or } \\mathbf{X}_{i,2} \\geq -0.5]$$\n",
    "-- Answer"
   ]
  },
  {
   "cell_type": "code",
   "execution_count": null,
   "metadata": {},
   "outputs": [],
   "source": [
    "### Solution\n",
    "ground_truth_ateO = \n",
    "\n",
    "print('ATE for overlap group:', ground_truth_ateO)"
   ]
  },
  {
   "cell_type": "markdown",
   "metadata": {},
   "source": [
    "##### Create the following plot: $\\mathbf{X}_{\\cdot, 1}$ on the x axis, $\\mathbf{X}_{\\cdot, 2}$ on the y-axis and the _new_ propensity score as a colored background"
   ]
  },
  {
   "cell_type": "code",
   "execution_count": 12,
   "metadata": {},
   "outputs": [
    {
     "data": {
      "image/png": "[encoded data removed]",
      "text/plain": [
       "<Figure size 432x288 with 2 Axes>"
      ]
     },
     "metadata": {
      "needs_background": "light"
     },
     "output_type": "display_data"
    }
   ],
   "source": [
    "\n",
    "xv = np.linspace(-1, 1, 1000)\n",
    "yv = np.linspace(-1, 1, 1000)\n",
    "x_plot = np.array([[x, y] for x in xv for y in yv])\n",
    "pi_grid_violation = make_pi_violation(x_plot).reshape(1000, 1000)\n",
    "\n",
    "plt.rcParams.update({'font.size': 12})\n",
    "fig, ax = plt.subplots()\n",
    "contour = ax.contourf(xv, yv, pi_grid_violation, cmap='viridis', levels=np.linspace(0, 0.8, 10).round(2))\n",
    "cbar = fig.colorbar(contour, ax=ax)\n",
    "plt.xlabel('X[:, 0]')\n",
    "plt.ylabel('X[:, 1]')\n",
    "plt.title('Contour Plot of Propensity Score')\n",
    "plt.show()\n",
    "\n"
   ]
  },
  {
   "cell_type": "markdown",
   "metadata": {},
   "source": [
    "#### Run 100 monte carlo iterations of the following simulation:\n",
    "- Sample 1,000 observations with *2* covariates and the _new_ propensity score function with the overlap violation\n",
    "- Estimate the average treatment effect using 2 different methods (e.g., IPW with logistic regression vs outcome regression with logistic regression)\n",
    "- Report the bias and variance of your estimate across monte carlo iterations"
   ]
  },
  {
   "cell_type": "code",
   "execution_count": null,
   "metadata": {},
   "outputs": [],
   "source": [
    "\n",
    "def monte_carlo_violation(n, p, seed):\n",
    "    \"\"\"\n",
    "    Perform a Monte Carlo simulation to estimate the Average Treatment Effect (ATE) using inverse propensity weighting and outcome regression with violation PS.\n",
    "    Parameters:\n",
    "    n (int): The number of samples.\n",
    "    p (int): The number of features.\n",
    "    Returns:\n",
    "    float: The estimated Average Treatment Effect (ATE).\n",
    "    \"\"\"\n",
    "    np.random.seed(seed)\n",
    "    # sample X, T, and Y\n",
    "    X = sample_X(n, p)\n",
    "    T = sample_T(X, pi_function = make_pi_violation)\n",
    "    Y = sample_Y(X, T)\n",
    "\n",
    "    # estimate the ATE using IPW\n",
    "    ate_estimate1 = first_ate_estimator(X, T, Y)\n",
    "\n",
    "    # estimate the ATE using outcome regression T learner\n",
    "    \n",
    "    ate_estimate2 = first_ate_estimator(X, T, Y)\n",
    "\n",
    "\n",
    "    return ate_estimate1, ate_estimate2\n",
    "\n",
    "monte_carlo_ests_violation = np.array([monte_carlo_violation(10000, 2, i) for i in tqdm(range(100))])"
   ]
  },
  {
   "cell_type": "code",
   "execution_count": null,
   "metadata": {},
   "outputs": [],
   "source": [
    "fig, ax = plt.subplots(1,2, figsize=(15, 5))\n",
    "\n",
    "ax[0].axvline(x=ground_truth_ateO, color='black', linestyle='--', label = 'Ground truth ATE for Overlap Region')\n",
    "ax[0].axvline(x=ground_truth_ate, color='red', linestyle='--', label = 'Ground truth ATE')\n",
    "ax[0].hist(monte_carlo_ests_violation[:, 0], bins=30, edgecolor='black')\n",
    "ax[0].set_xlabel('ATE Estimates')\n",
    "ax[0].set_ylabel('Frequency')\n",
    "ax[0].set_title('Estimator 1')\n",
    "\n",
    "ax[1].axvline(x=ground_truth_ateO, color='black', linestyle='--', label = 'Ground truth ATE for Overlap Region')\n",
    "ax[1].axvline(x=ground_truth_ate, color='red', linestyle='--', label = 'Ground truth ATE')\n",
    "ax[1].hist(monte_carlo_ests_violation[:, 1], bins=30, edgecolor='black')\n",
    "ax[1].set_xlabel('ATE Estimates')\n",
    "ax[1].set_ylabel('Frequency')\n",
    "ax[1].set_title('Estimator 2')\n",
    "\n",
    "plt.legend()\n",
    "plt.show()"
   ]
  },
  {
   "cell_type": "code",
   "execution_count": null,
   "metadata": {},
   "outputs": [],
   "source": [
    "\n",
    "viol_estimator1_bias = (monte_carlo_ests_violation[:, 0] - ground_truth_ate).mean()\n",
    "viol_estimator1_variance = np.var(monte_carlo_ests_violation[:, 0])\n",
    "\n",
    "print('Bias Estimator 1:', viol_estimator1_bias)\n",
    "print('Variance Estimator 1:', viol_estimator1_variance)\n",
    "\n",
    "\n",
    "viol_estimator2_bias = (monte_carlo_ests_violation[:, 1] - ground_truth_ate).mean()\n",
    "viol_estimator2_variance = np.var(monte_carlo_ests_violation[:, 1])\n",
    "\n",
    "print('Bias Estimator 2:', viol_estimator2_bias)\n",
    "print('Variance Estimator 2:', viol_estimator2_variance)"
   ]
  },
  {
   "cell_type": "markdown",
   "metadata": {},
   "source": [
    "##### Now, let us implement some of these solutions we discussed. We will implement (1) propensity score trimming and (2) pruning via matching. \n",
    "- First, implement a generic trimming function that indicates whether we will include an observation in the analysis based on its estimated propensity score\n",
    "- Now, estimate propensity scores using a logistic regression and using a random forest\n",
    "- Trim observations whose estimated propensity scores are outside of the 0.1 to 0.9 range. On our contour plot, overlay whether observations were pruned (red) or kept in the analysis (blue) for a single monte carlo iteration of data generation"
   ]
  },
  {
   "cell_type": "code",
   "execution_count": null,
   "metadata": {},
   "outputs": [],
   "source": [
    "def ps_trimming(X_train, X_test, T_train, T_test, Y_train, Y_test, ps_estimator):\n",
    "    \"\"\"\n",
    "    Perform propensity score trimming to remove units with low propensity scores.\n",
    "    \n",
    "    Parameters:\n",
    "    - X_train (pd.DataFrame or np.array): Covariates for training.\n",
    "    - X_test (pd.DataFrame or np.array): Covariates for testing.\n",
    "    - T_train (pd.Series or np.array): Treatment indicator for training.\n",
    "    - T_test (pd.Series or np.array): Treatment indicator for testing.\n",
    "    - Y_train (pd.Series or np.array): Outcome values for training.\n",
    "    - Y_test (pd.Series or np.array): Outcome values for testing.\n",
    "    - ps_estimator: Scikit-learn compatible classifier for propensity score estimation.\n",
    "    \n",
    "    Returns:\n",
    "    - X_trim (pd.DataFrame or np.array): Trimmed covariates.\n",
    "    - T_trim (pd.Series or np.array): Trimmed treatment indicator.\n",
    "    - Y_trim (pd.Series or np.array): Trimmed observed outcome values.\n",
    "    \"\"\"\n",
    "    \n",
    "    # Step 1: Estimate propensity scores\n",
    "    \n",
    "\n",
    "    # Step 2: Trim data based on propensity scores\n",
    "    \n",
    "    # Step 3: Return trim ID\n",
    "    return keep_idx"
   ]
  },
  {
   "cell_type": "code",
   "execution_count": null,
   "metadata": {},
   "outputs": [],
   "source": [
    "X = sample_X(2500, 2)\n",
    "T = sample_T(X, pi_function=make_pi_violation)\n",
    "Y = sample_Y(X, T)\n",
    "\n",
    "## Split data into training and testing\n",
    "X_train, X_test, T_train, T_test, Y_train, Y_test = train_test_split(X, T, Y, test_size=0.5, random_state=42)\n",
    "\n",
    "true_ps_trim_idx = make_pi_violation(X_test) > 0\n",
    "logit_ps_trim_idx = ps_trimming(X_train, X_test, T_train, T_test, Y_train, Y_test, ps_estimator = LogisticRegression())\n",
    "rf_ps_trim_idx = ps_trimming(X_train, X_test, T_train, T_test, Y_train, Y_test, ps_estimator = RandomForestClassifier())"
   ]
  },
  {
   "cell_type": "code",
   "execution_count": null,
   "metadata": {},
   "outputs": [],
   "source": [
    "def plot_subaxis_ps_viol(ax, ps_trim, title):\n",
    "    contour = ax.contourf(xv, yv, pi_grid_violation, cmap='viridis', levels=np.linspace(0, 0.8, 10).round(2))\n",
    "    ax.scatter(X_test[:, 0], X_test[:, 1], color=['#00A2FF' if idx == 1 else 'red' for idx in ps_trim], s=10)\n",
    "    ax.set_xlabel('X[:, 0]')\n",
    "    # ax.set_ylabel('X[:, 1]')\n",
    "    ax.set_title(title)\n",
    "\n",
    "xv = np.linspace(-1, 1, 1000)\n",
    "yv = np.linspace(-1, 1, 1000)\n",
    "x_plot = np.array([[x, y] for x in xv for y in yv])\n",
    "pi_grid_violation = make_pi_violation(x_plot).reshape(1000, 1000)\n",
    "\n",
    "plt.rcParams.update({'font.size': 12})\n",
    "n_subplots = 3\n",
    "fig, ax = plt.subplots(1, n_subplots, figsize=(n_subplots * 4 + 1, 4))\n",
    "\n",
    "plot_subaxis_ps_viol(ax[0], true_ps_trim_idx, 'True PS Trim')\n",
    "ax[0].set_ylabel('X[:, 0]')\n",
    "plot_subaxis_ps_viol(ax[1], logit_ps_trim_idx, 'Logit Trim')\n",
    "plot_subaxis_ps_viol(ax[2], rf_ps_trim_idx, 'RF Trim')\n",
    "\n",
    "cbar = fig.colorbar(contour)\n",
    "\n",
    "plt.show()\n",
    "\n"
   ]
  },
  {
   "cell_type": "markdown",
   "metadata": {},
   "source": [
    "##### What do you notice about the behavior of the different trimmers? How does logistic regression propensity score trimmer compare to the random forest trimmer? Why might this be the case? (Hint: think about overfitting/underfitting)\n",
    "\n",
    "Answer goes here"
   ]
  },
  {
   "cell_type": "markdown",
   "metadata": {},
   "source": [
    "##### Now, implement the matching procedure\n",
    "- For the treated units, find the nearest control neighbor\n",
    "- For the control units, find the nearest treated neighbor\n",
    "- Flag any observations whose distance is >75th-quantile + 1.5 * (Interquartile range)"
   ]
  },
  {
   "cell_type": "code",
   "execution_count": null,
   "metadata": {},
   "outputs": [],
   "source": [
    "def matching_trimmer(X_train, X_test, T_train, T_test, Y_train, Y_test):\n",
    "    \"\"\"\n",
    "    Perform matching-based trimming to remove units with low propensity scores.\n",
    "    \n",
    "    Parameters:\n",
    "    - X (pd.DataFrame or np.array): Covariates.\n",
    "    - T (pd.Series or np.array): Treatment indicator.\n",
    "    \n",
    "    Returns:\n",
    "    - keep_idx (pd.Series or np.array): Trimmed indices.\n",
    "    \"\"\"\n",
    "    # Step 1: Separate treated and control units (to be fair to baselines, only use test data)\n",
    "    X_tx = X_test[T_test == 1]\n",
    "    X_ctrl = X_test[T_test == 0]\n",
    "\n",
    "    # Step 2: find distance to nearest neighbor of treated class for every observation\n",
    "    tx_distances = \n",
    "    # Step 3: find distance to nearest neighbor of control class for every observation\n",
    "    ctrl_distances = \n",
    "    # Step 4: keep only distance to nearest neighbor of the _opposite_ class\n",
    "    distances = tx_distances * (1 - T_test) + ctrl_distances * T_test\n",
    "\n",
    "    # Step 5: find outlier distances using interquartile range\n",
    "    outlier_threshold = \n",
    "\n",
    "    # Step 6: keep only non-outliers\n",
    "    keep_idx = distances < outlier_threshold\n",
    "\n",
    "    return keep_idx"
   ]
  },
  {
   "cell_type": "code",
   "execution_count": 196,
   "metadata": {},
   "outputs": [],
   "source": [
    "matching_trim_idx = matching_trimmer(X_train, X_test, T_train, T_test, Y_train, Y_test)"
   ]
  },
  {
   "cell_type": "code",
   "execution_count": null,
   "metadata": {},
   "outputs": [],
   "source": [
    "\n",
    "xv = np.linspace(-1, 1, 1000)\n",
    "yv = np.linspace(-1, 1, 1000)\n",
    "x_plot = np.array([[x, y] for x in xv for y in yv])\n",
    "pi_grid_violation = make_pi_violation(x_plot).reshape(1000, 1000)\n",
    "\n",
    "plt.rcParams.update({'font.size': 12})\n",
    "n_subplots = 4\n",
    "fig, ax = plt.subplots(1, n_subplots, figsize=(n_subplots * 4 + 1, 4))\n",
    "plot_subaxis_ps_viol(ax[0], true_ps_trim_idx, 'True PS Trim')\n",
    "ax[0].set_ylabel('X[:, 0]')\n",
    "plot_subaxis_ps_viol(ax[1], logit_ps_trim_idx, 'Logit Trim')\n",
    "plot_subaxis_ps_viol(ax[2], rf_ps_trim_idx, 'RF Trim')\n",
    "\n",
    "cbar = fig.colorbar(contour)\n",
    "\n",
    "plot_subaxis_ps_viol(ax[3], matching_trim_idx, 'Matching Trim')\n",
    "plt.show()"
   ]
  },
  {
   "cell_type": "markdown",
   "metadata": {},
   "source": [
    "##### Now, let us implement a Monte Carlo experiment to evaluate how trimming with different choices of estimators affects ATE and ATEO estimates"
   ]
  },
  {
   "cell_type": "code",
   "execution_count": null,
   "metadata": {},
   "outputs": [],
   "source": [
    "def ateO_monte_carlo(n, p, seed):\n",
    "    \"\"\"\n",
    "    Perform a Monte Carlo simulation to estimate the Average Treatment Effect (ATE) using inverse propensity weighting and outcome regression with violation PS.\n",
    "    Parameters:\n",
    "    n (int): The number of samples.\n",
    "    p (int): The number of features.\n",
    "    Returns:\n",
    "    float: The estimated Average Treatment Effect (ATE).\n",
    "    \"\"\"\n",
    "    np.random.seed(seed)\n",
    "    # sample X, T, and Y\n",
    "    X = sample_X(n, p)\n",
    "    T = sample_T(X, pi_function=make_pi_violation)\n",
    "    Y = sample_Y(X, T)\n",
    "\n",
    "    # split into training (for finding overlap violations) and testing data\n",
    "    X_train, X_test, T_train, T_test, Y_train, Y_test = train_test_split(X, T, Y, test_size=0.5, random_state=42)\n",
    "\n",
    "    # implement propensity score trimming with logistic regression and find out which observations we can keep/remove\n",
    "    logit_ps_keep_idx = ps_trimming(X_train, X_test, T_train, T_test, Y_train, Y_test, ps_estimator = LogisticRegression())\n",
    "\n",
    "    # implement propensity score trimming with random forest and find out which observations we can keep/remove\n",
    "    rf_ps_keep_idx = ps_trimming(X_train, X_test, T_train, T_test, Y_train, Y_test, ps_estimator = RandomForestClassifier())\n",
    "\n",
    "    # estimate the ATE using your first estimator on the untrimmed data from logistic regression PS estimates\n",
    "    ate_estimate1_logit_trim = first_ate_estimator(X[logit_ps_keep_idx, :], T[logit_ps_keep_idx], Y[logit_ps_keep_idx])\n",
    "\n",
    "    # estimate the ATE using your first estimator on the untrimmed data from random forest PS estimates\n",
    "    ate_estimate1_rf_trim = first_ate_estimator(X[rf_ps_keep_idx, :], T[rf_ps_keep_idx], Y[rf_ps_keep_idx])\n",
    "    \n",
    "    # estimate the ATE using your second estimator on the untrimmed data from logistic regression PS estimates\n",
    "    ate_estimate2_logit_trim = second_ate_estimator(X[logit_ps_keep_idx, :], T[logit_ps_keep_idx], Y[logit_ps_keep_idx])\n",
    "\n",
    "    # estimate the ATE using your second estimator on the untrimmed data from random forest PS estimates\n",
    "    ate_estimate2_rf_trim = second_ate_estimator(X[rf_ps_keep_idx, :], T[rf_ps_keep_idx], Y[rf_ps_keep_idx])\n",
    "\n",
    "\n",
    "    return ate_estimate1_logit_trim, ate_estimate1_rf_trim, ate_estimate2_logit_trim, ate_estimate2_rf_trim"
   ]
  },
  {
   "cell_type": "code",
   "execution_count": null,
   "metadata": {},
   "outputs": [],
   "source": [
    "ateO_monte_carlo_ests = np.array([ateO_monte_carlo(10000, 2, i) for i in tqdm(range(100))])"
   ]
  },
  {
   "cell_type": "code",
   "execution_count": null,
   "metadata": {},
   "outputs": [
    {
     "data": {
      "image/png": "[encoded data removed]",
      "text/plain": [
       "<Figure size 1296x648 with 6 Axes>"
      ]
     },
     "metadata": {},
     "output_type": "display_data"
    }
   ],
   "source": [
    "fig, ax = plt.subplots(2, 3, figsize = (18, 9))\n",
    "\n",
    "ax[0,0].axvline(x=ground_truth_ateO, color='black', linestyle='--', label = 'Ground truth ATE for Overlap Region')\n",
    "ax[0,0].axvline(x=ground_truth_ate, color='red', linestyle='--', label = 'Ground truth ATE')\n",
    "ax[0,0].hist(ateO_monte_carlo_ests[:, 0], bins=30, edgecolor='black')\n",
    "ax[0,0].set_xlabel('ATE Estimates: True PS Trim, Estimator 1')\n",
    "ax[0,0].set_ylabel('Frequency')\n",
    "\n",
    "ax[0,1].axvline(x=ground_truth_ateO, color='black', linestyle='--', label = 'Ground truth ATE for Overlap Region')\n",
    "ax[0,1].axvline(x=ground_truth_ate, color='red', linestyle='--', label = 'Ground truth ATE')\n",
    "ax[0,1].hist(ateO_monte_carlo_ests[:, 1], bins=30, edgecolor='black')\n",
    "ax[0,1].set_xlabel('ATE Estimates: Logit Trim, Estimator 1')\n",
    "ax[0,1].set_ylabel('Frequency')\n",
    "\n",
    "ax[0,2].axvline(x=ground_truth_ateO, color='black', linestyle='--', label = 'Ground truth ATE for Overlap Region')\n",
    "ax[0,2].axvline(x=ground_truth_ate, color='red', linestyle='--', label = 'Ground truth ATE')\n",
    "ax[0,2].hist(ateO_monte_carlo_ests[:, 2], bins=30, edgecolor='black')\n",
    "ax[0,2].set_xlabel('ATE Estimates: RF Trim, Estimator 1')\n",
    "ax[0,2].set_ylabel('Frequency')\n",
    "\n",
    "ax[1,0].axvline(x=ground_truth_ateO, color='black', linestyle='--', label = 'Ground truth ATE for Overlap Region')\n",
    "ax[1,0].axvline(x=ground_truth_ate, color='red', linestyle='--', label = 'Ground truth ATE')\n",
    "ax[1,0].hist(ateO_monte_carlo_ests[:, 3], bins=30, edgecolor='black')\n",
    "ax[1,0].set_xlabel('ATE Estimates: True PS Trim, Estimator 2')\n",
    "ax[1,0].set_ylabel('Frequency')\n",
    "\n",
    "ax[1,1].axvline(x=ground_truth_ateO, color='black', linestyle='--', label = 'Ground truth ATE for Overlap Region')\n",
    "ax[1,1].axvline(x=ground_truth_ate, color='red', linestyle='--', label = 'Ground truth ATE')\n",
    "ax[1,1].hist(ateO_monte_carlo_ests[:, 4], bins=30, edgecolor='black')\n",
    "ax[1,1].set_xlabel('ATE Estimates: Logit Trim, Estimator 2')\n",
    "ax[1,1].set_ylabel('Frequency')\n",
    "\n",
    "ax[1,2].axvline(x=ground_truth_ateO, color='black', linestyle='--', label = 'Ground truth ATE for Overlap Region')\n",
    "ax[1,2].axvline(x=ground_truth_ate, color='red', linestyle='--', label = 'Ground truth ATE')\n",
    "ax[1,2].hist(ateO_monte_carlo_ests[:, 5], bins=30, edgecolor='black')\n",
    "ax[1,2].set_xlabel('ATE Estimates: RF Trim, Estimator 2')\n",
    "ax[1,2].set_ylabel('Frequency')\n",
    "\n",
    "\n",
    "plt.legend()\n",
    "plt.show()"
   ]
  }
 ],
 "metadata": {
  "kernelspec": {
   "display_name": "Python 3",
   "language": "python",
   "name": "python3"
  },
  "language_info": {
   "codemirror_mode": {
    "name": "ipython",
    "version": 3
   },
   "file_extension": ".py",
   "mimetype": "text/x-python",
   "name": "python",
   "nbconvert_exporter": "python",
   "pygments_lexer": "ipython3",
   "version": "3.10.12"
  }
 },
 "nbformat": 4,
 "nbformat_minor": 2
}
